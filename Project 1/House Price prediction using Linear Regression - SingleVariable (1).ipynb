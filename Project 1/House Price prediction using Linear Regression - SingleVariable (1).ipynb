{
 "cells": [
  {
   "cell_type": "markdown",
   "id": "da6e05a1-87a0-49bc-9942-07af8df12cf9",
   "metadata": {},
   "source": [
    "# Ravi Shripad"
   ]
  },
  {
   "cell_type": "markdown",
   "id": "afb5edf2-1eb3-4d27-a05c-f3fc53e90c21",
   "metadata": {},
   "source": [
    "# Roll no.58"
   ]
  },
  {
   "cell_type": "markdown",
   "id": "0a0215fb-b9a2-453b-9c6e-fb7af38b495a",
   "metadata": {},
   "source": [
    "# House Price prediction using Linear Regression - SingleVariablekeyboard_"
   ]
  },
  {
   "cell_type": "code",
   "execution_count": 1,
   "id": "9f20cf64-d89d-4d34-ad74-9bae53ce6a08",
   "metadata": {},
   "outputs": [],
   "source": [
    "import pandas as pd\n",
    "from sklearn.linear_model import LinearRegression\n",
    "import matplotlib.pyplot as plt"
   ]
  },
  {
   "cell_type": "markdown",
   "id": "49e5a5c1-da09-4990-b3cf-f0456d59668b",
   "metadata": {},
   "source": [
    "# Load dataset"
   ]
  },
  {
   "cell_type": "code",
   "execution_count": 2,
   "id": "ab0ce55e-634d-41cd-b9fd-092db7281591",
   "metadata": {},
   "outputs": [
    {
     "data": {
      "text/html": [
       "<div>\n",
       "<style scoped>\n",
       "    .dataframe tbody tr th:only-of-type {\n",
       "        vertical-align: middle;\n",
       "    }\n",
       "\n",
       "    .dataframe tbody tr th {\n",
       "        vertical-align: top;\n",
       "    }\n",
       "\n",
       "    .dataframe thead th {\n",
       "        text-align: right;\n",
       "    }\n",
       "</style>\n",
       "<table border=\"1\" class=\"dataframe\">\n",
       "  <thead>\n",
       "    <tr style=\"text-align: right;\">\n",
       "      <th></th>\n",
       "      <th>area</th>\n",
       "      <th>price</th>\n",
       "    </tr>\n",
       "  </thead>\n",
       "  <tbody>\n",
       "    <tr>\n",
       "      <th>0</th>\n",
       "      <td>8450</td>\n",
       "      <td>208500</td>\n",
       "    </tr>\n",
       "    <tr>\n",
       "      <th>1</th>\n",
       "      <td>9600</td>\n",
       "      <td>181500</td>\n",
       "    </tr>\n",
       "    <tr>\n",
       "      <th>2</th>\n",
       "      <td>11250</td>\n",
       "      <td>223500</td>\n",
       "    </tr>\n",
       "    <tr>\n",
       "      <th>3</th>\n",
       "      <td>9550</td>\n",
       "      <td>140000</td>\n",
       "    </tr>\n",
       "    <tr>\n",
       "      <th>4</th>\n",
       "      <td>14260</td>\n",
       "      <td>250000</td>\n",
       "    </tr>\n",
       "  </tbody>\n",
       "</table>\n",
       "</div>"
      ],
      "text/plain": [
       "    area   price\n",
       "0   8450  208500\n",
       "1   9600  181500\n",
       "2  11250  223500\n",
       "3   9550  140000\n",
       "4  14260  250000"
      ]
     },
     "execution_count": 2,
     "metadata": {},
     "output_type": "execute_result"
    }
   ],
   "source": [
    "Dataset = pd.read_csv('house dataset.csv')\n",
    "Dataset.head()"
   ]
  },
  {
   "cell_type": "markdown",
   "id": "f6b63190-71ee-45de-85f3-9f9d4dab9fcb",
   "metadata": {},
   "source": [
    "# Load Summarize"
   ]
  },
  {
   "cell_type": "code",
   "execution_count": 3,
   "id": "486d64b5-1827-47b7-ac5a-2478b0c20414",
   "metadata": {},
   "outputs": [
    {
     "name": "stdout",
     "output_type": "stream",
     "text": [
      "(1460, 2)\n",
      "    area   price\n",
      "0   8450  208500\n",
      "1   9600  181500\n",
      "2  11250  223500\n",
      "3   9550  140000\n",
      "4  14260  250000\n"
     ]
    }
   ],
   "source": [
    "print(Dataset.shape)\n",
    "print(Dataset.head(5))"
   ]
  },
  {
   "cell_type": "code",
   "execution_count": 4,
   "id": "51f034e0-6b9b-4eb7-b30b-cca477147ce1",
   "metadata": {},
   "outputs": [
    {
     "name": "stdout",
     "output_type": "stream",
     "text": [
      "<class 'pandas.core.frame.DataFrame'>\n",
      "RangeIndex: 1460 entries, 0 to 1459\n",
      "Data columns (total 2 columns):\n",
      " #   Column  Non-Null Count  Dtype\n",
      "---  ------  --------------  -----\n",
      " 0   area    1460 non-null   int64\n",
      " 1   price   1460 non-null   int64\n",
      "dtypes: int64(2)\n",
      "memory usage: 22.9 KB\n"
     ]
    }
   ],
   "source": [
    "Dataset.info()"
   ]
  },
  {
   "cell_type": "code",
   "execution_count": 5,
   "id": "0cbbb588-687e-4541-97b0-317b373cc06b",
   "metadata": {},
   "outputs": [
    {
     "data": {
      "text/html": [
       "<div>\n",
       "<style scoped>\n",
       "    .dataframe tbody tr th:only-of-type {\n",
       "        vertical-align: middle;\n",
       "    }\n",
       "\n",
       "    .dataframe tbody tr th {\n",
       "        vertical-align: top;\n",
       "    }\n",
       "\n",
       "    .dataframe thead th {\n",
       "        text-align: right;\n",
       "    }\n",
       "</style>\n",
       "<table border=\"1\" class=\"dataframe\">\n",
       "  <thead>\n",
       "    <tr style=\"text-align: right;\">\n",
       "      <th></th>\n",
       "      <th>area</th>\n",
       "      <th>price</th>\n",
       "    </tr>\n",
       "  </thead>\n",
       "  <tbody>\n",
       "    <tr>\n",
       "      <th>count</th>\n",
       "      <td>1460.000000</td>\n",
       "      <td>1460.000000</td>\n",
       "    </tr>\n",
       "    <tr>\n",
       "      <th>mean</th>\n",
       "      <td>10516.828082</td>\n",
       "      <td>180921.195890</td>\n",
       "    </tr>\n",
       "    <tr>\n",
       "      <th>std</th>\n",
       "      <td>9981.264932</td>\n",
       "      <td>79442.502883</td>\n",
       "    </tr>\n",
       "    <tr>\n",
       "      <th>min</th>\n",
       "      <td>1300.000000</td>\n",
       "      <td>34900.000000</td>\n",
       "    </tr>\n",
       "    <tr>\n",
       "      <th>25%</th>\n",
       "      <td>7553.500000</td>\n",
       "      <td>129975.000000</td>\n",
       "    </tr>\n",
       "    <tr>\n",
       "      <th>50%</th>\n",
       "      <td>9478.500000</td>\n",
       "      <td>163000.000000</td>\n",
       "    </tr>\n",
       "    <tr>\n",
       "      <th>75%</th>\n",
       "      <td>11601.500000</td>\n",
       "      <td>214000.000000</td>\n",
       "    </tr>\n",
       "    <tr>\n",
       "      <th>max</th>\n",
       "      <td>215245.000000</td>\n",
       "      <td>755000.000000</td>\n",
       "    </tr>\n",
       "  </tbody>\n",
       "</table>\n",
       "</div>"
      ],
      "text/plain": [
       "                area          price\n",
       "count    1460.000000    1460.000000\n",
       "mean    10516.828082  180921.195890\n",
       "std      9981.264932   79442.502883\n",
       "min      1300.000000   34900.000000\n",
       "25%      7553.500000  129975.000000\n",
       "50%      9478.500000  163000.000000\n",
       "75%     11601.500000  214000.000000\n",
       "max    215245.000000  755000.000000"
      ]
     },
     "execution_count": 5,
     "metadata": {},
     "output_type": "execute_result"
    }
   ],
   "source": [
    "Dataset.describe()"
   ]
  },
  {
   "cell_type": "markdown",
   "id": "0e0a68b6-0760-4196-97f4-87d9343f561c",
   "metadata": {},
   "source": [
    "# Visualize Dataset"
   ]
  },
  {
   "cell_type": "code",
   "execution_count": 6,
   "id": "6dbb4d25-b673-4542-ba65-4d1759b983c1",
   "metadata": {},
   "outputs": [
    {
     "data": {
      "text/plain": [
       "<matplotlib.collections.PathCollection at 0x14935b91290>"
      ]
     },
     "execution_count": 6,
     "metadata": {},
     "output_type": "execute_result"
    },
    {
     "data": {
      "image/png": "[encoded data removed]",
      "text/plain": [
       "<Figure size 640x480 with 1 Axes>"
      ]
     },
     "metadata": {},
     "output_type": "display_data"
    }
   ],
   "source": [
    "plt.xlabel('Area')\n",
    "plt.ylabel('price')\n",
    "plt.scatter(Dataset.area,Dataset.price,color='blue', marker='*')"
   ]
  },
  {
   "cell_type": "markdown",
   "id": "282e636e-96bc-4444-9e11-144fa5dbd02d",
   "metadata": {},
   "source": [
    "# Segreate Dataset into Input X & Output Ykeyboard_"
   ]
  },
  {
   "cell_type": "code",
   "execution_count": 7,
   "id": "9bbcf6a3-40d1-4677-abf0-aafa8d92a78d",
   "metadata": {},
   "outputs": [
    {
     "data": {
      "text/html": [
       "<div>\n",
       "<style scoped>\n",
       "    .dataframe tbody tr th:only-of-type {\n",
       "        vertical-align: middle;\n",
       "    }\n",
       "\n",
       "    .dataframe tbody tr th {\n",
       "        vertical-align: top;\n",
       "    }\n",
       "\n",
       "    .dataframe thead th {\n",
       "        text-align: right;\n",
       "    }\n",
       "</style>\n",
       "<table border=\"1\" class=\"dataframe\">\n",
       "  <thead>\n",
       "    <tr style=\"text-align: right;\">\n",
       "      <th></th>\n",
       "      <th>area</th>\n",
       "    </tr>\n",
       "  </thead>\n",
       "  <tbody>\n",
       "    <tr>\n",
       "      <th>0</th>\n",
       "      <td>8450</td>\n",
       "    </tr>\n",
       "    <tr>\n",
       "      <th>1</th>\n",
       "      <td>9600</td>\n",
       "    </tr>\n",
       "    <tr>\n",
       "      <th>2</th>\n",
       "      <td>11250</td>\n",
       "    </tr>\n",
       "    <tr>\n",
       "      <th>3</th>\n",
       "      <td>9550</td>\n",
       "    </tr>\n",
       "    <tr>\n",
       "      <th>4</th>\n",
       "      <td>14260</td>\n",
       "    </tr>\n",
       "    <tr>\n",
       "      <th>...</th>\n",
       "      <td>...</td>\n",
       "    </tr>\n",
       "    <tr>\n",
       "      <th>1455</th>\n",
       "      <td>7917</td>\n",
       "    </tr>\n",
       "    <tr>\n",
       "      <th>1456</th>\n",
       "      <td>13175</td>\n",
       "    </tr>\n",
       "    <tr>\n",
       "      <th>1457</th>\n",
       "      <td>9042</td>\n",
       "    </tr>\n",
       "    <tr>\n",
       "      <th>1458</th>\n",
       "      <td>9717</td>\n",
       "    </tr>\n",
       "    <tr>\n",
       "      <th>1459</th>\n",
       "      <td>9937</td>\n",
       "    </tr>\n",
       "  </tbody>\n",
       "</table>\n",
       "<p>1460 rows × 1 columns</p>\n",
       "</div>"
      ],
      "text/plain": [
       "       area\n",
       "0      8450\n",
       "1      9600\n",
       "2     11250\n",
       "3      9550\n",
       "4     14260\n",
       "...     ...\n",
       "1455   7917\n",
       "1456  13175\n",
       "1457   9042\n",
       "1458   9717\n",
       "1459   9937\n",
       "\n",
       "[1460 rows x 1 columns]"
      ]
     },
     "execution_count": 7,
     "metadata": {},
     "output_type": "execute_result"
    }
   ],
   "source": [
    "X = Dataset.drop('price', axis='columns')\n",
    "X"
   ]
  },
  {
   "cell_type": "code",
   "execution_count": 8,
   "id": "8a834bef-cde7-4f14-b5c6-3b5b816fba17",
   "metadata": {},
   "outputs": [
    {
     "data": {
      "text/plain": [
       "0       208500\n",
       "1       181500\n",
       "2       223500\n",
       "3       140000\n",
       "4       250000\n",
       "         ...  \n",
       "1455    175000\n",
       "1456    210000\n",
       "1457    266500\n",
       "1458    142125\n",
       "1459    147500\n",
       "Name: price, Length: 1460, dtype: int64"
      ]
     },
     "execution_count": 8,
     "metadata": {},
     "output_type": "execute_result"
    }
   ],
   "source": [
    "Y = Dataset.price\n",
    "Y"
   ]
  },
  {
   "cell_type": "markdown",
   "id": "9008fb9b-7101-4132-be9a-6c0a6641e663",
   "metadata": {},
   "source": [
    "# Training Dataset using Linear Regression"
   ]
  },
  {
   "cell_type": "code",
   "execution_count": 9,
   "id": "ed51ff56-1287-4ac6-9af3-2335b8505ed2",
   "metadata": {},
   "outputs": [
    {
     "data": {
      "text/html": [
       "<style>#sk-container-id-1 {color: black;background-color: white;}#sk-container-id-1 pre{padding: 0;}#sk-container-id-1 div.sk-toggleable {background-color: white;}#sk-container-id-1 label.sk-toggleable__label {cursor: pointer;display: block;width: 100%;margin-bottom: 0;padding: 0.3em;box-sizing: border-box;text-align: center;}#sk-container-id-1 label.sk-toggleable__label-arrow:before {content: \"▸\";float: left;margin-right: 0.25em;color: #696969;}#sk-container-id-1 label.sk-toggleable__label-arrow:hover:before {color: black;}#sk-container-id-1 div.sk-estimator:hover label.sk-toggleable__label-arrow:before {color: black;}#sk-container-id-1 div.sk-toggleable__content {max-height: 0;max-width: 0;overflow: hidden;text-align: left;background-color: #f0f8ff;}#sk-container-id-1 div.sk-toggleable__content pre {margin: 0.2em;color: black;border-radius: 0.25em;background-color: #f0f8ff;}#sk-container-id-1 input.sk-toggleable__control:checked~div.sk-toggleable__content {max-height: 200px;max-width: 100%;overflow: auto;}#sk-container-id-1 input.sk-toggleable__control:checked~label.sk-toggleable__label-arrow:before {content: \"▾\";}#sk-container-id-1 div.sk-estimator input.sk-toggleable__control:checked~label.sk-toggleable__label {background-color: #d4ebff;}#sk-container-id-1 div.sk-label input.sk-toggleable__control:checked~label.sk-toggleable__label {background-color: #d4ebff;}#sk-container-id-1 input.sk-hidden--visually {border: 0;clip: rect(1px 1px 1px 1px);clip: rect(1px, 1px, 1px, 1px);height: 1px;margin: -1px;overflow: hidden;padding: 0;position: absolute;width: 1px;}#sk-container-id-1 div.sk-estimator {font-family: monospace;background-color: #f0f8ff;border: 1px dotted black;border-radius: 0.25em;box-sizing: border-box;margin-bottom: 0.5em;}#sk-container-id-1 div.sk-estimator:hover {background-color: #d4ebff;}#sk-container-id-1 div.sk-parallel-item::after {content: \"\";width: 100%;border-bottom: 1px solid gray;flex-grow: 1;}#sk-container-id-1 div.sk-label:hover label.sk-toggleable__label {background-color: #d4ebff;}#sk-container-id-1 div.sk-serial::before {content: \"\";position: absolute;border-left: 1px solid gray;box-sizing: border-box;top: 0;bottom: 0;left: 50%;z-index: 0;}#sk-container-id-1 div.sk-serial {display: flex;flex-direction: column;align-items: center;background-color: white;padding-right: 0.2em;padding-left: 0.2em;position: relative;}#sk-container-id-1 div.sk-item {position: relative;z-index: 1;}#sk-container-id-1 div.sk-parallel {display: flex;align-items: stretch;justify-content: center;background-color: white;position: relative;}#sk-container-id-1 div.sk-item::before, #sk-container-id-1 div.sk-parallel-item::before {content: \"\";position: absolute;border-left: 1px solid gray;box-sizing: border-box;top: 0;bottom: 0;left: 50%;z-index: -1;}#sk-container-id-1 div.sk-parallel-item {display: flex;flex-direction: column;z-index: 1;position: relative;background-color: white;}#sk-container-id-1 div.sk-parallel-item:first-child::after {align-self: flex-end;width: 50%;}#sk-container-id-1 div.sk-parallel-item:last-child::after {align-self: flex-start;width: 50%;}#sk-container-id-1 div.sk-parallel-item:only-child::after {width: 0;}#sk-container-id-1 div.sk-dashed-wrapped {border: 1px dashed gray;margin: 0 0.4em 0.5em 0.4em;box-sizing: border-box;padding-bottom: 0.4em;background-color: white;}#sk-container-id-1 div.sk-label label {font-family: monospace;font-weight: bold;display: inline-block;line-height: 1.2em;}#sk-container-id-1 div.sk-label-container {text-align: center;}#sk-container-id-1 div.sk-container {/* jupyter's `normalize.less` sets `[hidden] { display: none; }` but bootstrap.min.css set `[hidden] { display: none !important; }` so we also need the `!important` here to be able to override the default hidden behavior on the sphinx rendered scikit-learn.org. See: https://github.com/scikit-learn/scikit-learn/issues/21755 */display: inline-block !important;position: relative;}#sk-container-id-1 div.sk-text-repr-fallback {display: none;}</style><div id=\"sk-container-id-1\" class=\"sk-top-container\"><div class=\"sk-text-repr-fallback\"><pre>LinearRegression()</pre><b>In a Jupyter environment, please rerun this cell to show the HTML representation or trust the notebook. <br />On GitHub, the HTML representation is unable to render, please try loading this page with nbviewer.org.</b></div><div class=\"sk-container\" hidden><div class=\"sk-item\"><div class=\"sk-estimator sk-toggleable\"><input class=\"sk-toggleable__control sk-hidden--visually\" id=\"sk-estimator-id-1\" type=\"checkbox\" checked><label for=\"sk-estimator-id-1\" class=\"sk-toggleable__label sk-toggleable__label-arrow\">LinearRegression</label><div class=\"sk-toggleable__content\"><pre>LinearRegression()</pre></div></div></div></div></div>"
      ],
      "text/plain": [
       "LinearRegression()"
      ]
     },
     "execution_count": 9,
     "metadata": {},
     "output_type": "execute_result"
    }
   ],
   "source": [
    "model = LinearRegression()\n",
    "model.fit(X,Y)"
   ]
  },
  {
   "cell_type": "markdown",
   "id": "9a0a0937-16a4-4fee-addb-0bdd90a79d76",
   "metadata": {},
   "source": [
    "# Predicted Price for Land sq.Feet of custom values"
   ]
  },
  {
   "cell_type": "code",
   "execution_count": 10,
   "id": "cf2aece5-5cf0-4e79-a85e-9693640f1a7b",
   "metadata": {},
   "outputs": [
    {
     "name": "stdin",
     "output_type": "stream",
     "text": [
      "Enter house Squar fit 3000\n"
     ]
    },
    {
     "name": "stdout",
     "output_type": "stream",
     "text": [
      "[165136.067752]\n"
     ]
    },
    {
     "name": "stderr",
     "output_type": "stream",
     "text": [
      "C:\\Users\\ASUS\\anaconda3\\Lib\\site-packages\\sklearn\\base.py:439: UserWarning: X does not have valid feature names, but LinearRegression was fitted with feature names\n",
      "  warnings.warn(\n"
     ]
    }
   ],
   "source": [
    "x=int(input('Enter house Squar fit'))\n",
    "LandAreainSqFt=[[x]]\n",
    "PredictedmodelResult = model.predict(LandAreainSqFt)\n",
    "print(PredictedmodelResult)"
   ]
  },
  {
   "cell_type": "markdown",
   "id": "882e5eff-fc8c-43aa-a511-c67abba86ca2",
   "metadata": {},
   "source": [
    "# Checking model is right\n",
    "# Theory Calculation\n",
    "# Y=m*X+b(m is coefficient and b is intercept)"
   ]
  },
  {
   "cell_type": "markdown",
   "id": "d704d60d-5612-4ad4-91dc-8fa426dd12d2",
   "metadata": {},
   "source": [
    "Coeffi cient -m"
   ]
  },
  {
   "cell_type": "code",
   "execution_count": 11,
   "id": "57941f00-ef6d-4412-8df7-be1db92dac82",
   "metadata": {},
   "outputs": [
    {
     "data": {
      "text/plain": [
       "array([2.09997195])"
      ]
     },
     "execution_count": 11,
     "metadata": {},
     "output_type": "execute_result"
    }
   ],
   "source": [
    "m=model.coef_\n",
    "print\n",
    "(m)"
   ]
  },
  {
   "cell_type": "markdown",
   "id": "56591de4-0016-4efa-8d8c-96182ccd95f7",
   "metadata": {},
   "source": [
    "intercept - b"
   ]
  },
  {
   "cell_type": "code",
   "execution_count": 12,
   "id": "2c5347bd-412e-4d4b-a64f-1c3b6f493039",
   "metadata": {},
   "outputs": [
    {
     "data": {
      "text/plain": [
       "158836.1518968766"
      ]
     },
     "execution_count": 12,
     "metadata": {},
     "output_type": "execute_result"
    }
   ],
   "source": [
    "b=model.intercept_\n",
    "print\n",
    "(b)"
   ]
  },
  {
   "cell_type": "markdown",
   "id": "a5327473-587b-45cf-9201-af991fb4eeef",
   "metadata": {},
   "source": [
    "# Y=mx+b"
   ]
  },
  {
   "cell_type": "markdown",
   "id": "1b31fb6a-3014-4312-a9f2-6a4d869d018d",
   "metadata": {},
   "source": [
    "x is independent variable- input - area"
   ]
  },
  {
   "cell_type": "code",
   "execution_count": 14,
   "id": "1278f6b8-be6a-461c-a60e-46ed18971d3b",
   "metadata": {},
   "outputs": [
    {
     "name": "stdout",
     "output_type": "stream",
     "text": [
      "The price of 3000 Squar feet Land is: 165136.06775199962\n"
     ]
    }
   ],
   "source": [
    "y = m*x + b\n",
    "print(\"The price of {0} Squar feet Land is: {1}\".format(x,y[0]))"
   ]
  },
  {
   "cell_type": "markdown",
   "id": "bc59488b-ebb7-4541-8546-7cc6a9724053",
   "metadata": {},
   "source": [
    "# Part B-Exam marks"
   ]
  },
  {
   "cell_type": "code",
   "execution_count": 15,
   "id": "001d6e08-5529-4dae-a425-c354705e5dba",
   "metadata": {},
   "outputs": [],
   "source": [
    "import pandas as pd\n",
    "from sklearn.linear_model import LinearRegression"
   ]
  },
  {
   "cell_type": "code",
   "execution_count": 16,
   "id": "1bce31e2-d0d0-4342-98dd-62067f3ce8cd",
   "metadata": {},
   "outputs": [],
   "source": [
    "dataset = pd.read_csv('exam data.csv')"
   ]
  },
  {
   "cell_type": "code",
   "execution_count": 17,
   "id": "afec39bb-83c7-4c58-9258-6fd94e05dc7b",
   "metadata": {},
   "outputs": [
    {
     "data": {
      "text/html": [
       "<div>\n",
       "<style scoped>\n",
       "    .dataframe tbody tr th:only-of-type {\n",
       "        vertical-align: middle;\n",
       "    }\n",
       "\n",
       "    .dataframe tbody tr th {\n",
       "        vertical-align: top;\n",
       "    }\n",
       "\n",
       "    .dataframe thead th {\n",
       "        text-align: right;\n",
       "    }\n",
       "</style>\n",
       "<table border=\"1\" class=\"dataframe\">\n",
       "  <thead>\n",
       "    <tr style=\"text-align: right;\">\n",
       "      <th></th>\n",
       "      <th>hours</th>\n",
       "      <th>age</th>\n",
       "      <th>internet</th>\n",
       "      <th>marks</th>\n",
       "    </tr>\n",
       "  </thead>\n",
       "  <tbody>\n",
       "    <tr>\n",
       "      <th>0</th>\n",
       "      <td>6.83</td>\n",
       "      <td>15</td>\n",
       "      <td>1</td>\n",
       "      <td>78.50</td>\n",
       "    </tr>\n",
       "    <tr>\n",
       "      <th>1</th>\n",
       "      <td>6.56</td>\n",
       "      <td>16</td>\n",
       "      <td>0</td>\n",
       "      <td>76.74</td>\n",
       "    </tr>\n",
       "    <tr>\n",
       "      <th>2</th>\n",
       "      <td>NaN</td>\n",
       "      <td>17</td>\n",
       "      <td>1</td>\n",
       "      <td>78.68</td>\n",
       "    </tr>\n",
       "    <tr>\n",
       "      <th>3</th>\n",
       "      <td>5.67</td>\n",
       "      <td>18</td>\n",
       "      <td>0</td>\n",
       "      <td>71.82</td>\n",
       "    </tr>\n",
       "    <tr>\n",
       "      <th>4</th>\n",
       "      <td>8.67</td>\n",
       "      <td>19</td>\n",
       "      <td>1</td>\n",
       "      <td>84.19</td>\n",
       "    </tr>\n",
       "    <tr>\n",
       "      <th>5</th>\n",
       "      <td>7.55</td>\n",
       "      <td>20</td>\n",
       "      <td>0</td>\n",
       "      <td>81.18</td>\n",
       "    </tr>\n",
       "    <tr>\n",
       "      <th>6</th>\n",
       "      <td>6.67</td>\n",
       "      <td>15</td>\n",
       "      <td>0</td>\n",
       "      <td>76.99</td>\n",
       "    </tr>\n",
       "    <tr>\n",
       "      <th>7</th>\n",
       "      <td>8.99</td>\n",
       "      <td>16</td>\n",
       "      <td>0</td>\n",
       "      <td>85.46</td>\n",
       "    </tr>\n",
       "    <tr>\n",
       "      <th>8</th>\n",
       "      <td>5.19</td>\n",
       "      <td>17</td>\n",
       "      <td>1</td>\n",
       "      <td>70.66</td>\n",
       "    </tr>\n",
       "    <tr>\n",
       "      <th>9</th>\n",
       "      <td>6.75</td>\n",
       "      <td>18</td>\n",
       "      <td>0</td>\n",
       "      <td>77.82</td>\n",
       "    </tr>\n",
       "  </tbody>\n",
       "</table>\n",
       "</div>"
      ],
      "text/plain": [
       "   hours  age  internet  marks\n",
       "0   6.83   15         1  78.50\n",
       "1   6.56   16         0  76.74\n",
       "2    NaN   17         1  78.68\n",
       "3   5.67   18         0  71.82\n",
       "4   8.67   19         1  84.19\n",
       "5   7.55   20         0  81.18\n",
       "6   6.67   15         0  76.99\n",
       "7   8.99   16         0  85.46\n",
       "8   5.19   17         1  70.66\n",
       "9   6.75   18         0  77.82"
      ]
     },
     "execution_count": 17,
     "metadata": {},
     "output_type": "execute_result"
    }
   ],
   "source": [
    "dataset.head(10)"
   ]
  },
  {
   "cell_type": "code",
   "execution_count": 18,
   "id": "8d642362-dfe6-412f-9503-8f76b3e537e3",
   "metadata": {},
   "outputs": [
    {
     "name": "stdout",
     "output_type": "stream",
     "text": [
      "(201, 4)\n",
      "   hours  age  internet  marks\n",
      "0   6.83   15         1  78.50\n",
      "1   6.56   16         0  76.74\n",
      "2    NaN   17         1  78.68\n",
      "3   5.67   18         0  71.82\n",
      "4   8.67   19         1  84.19\n"
     ]
    }
   ],
   "source": [
    "print(dataset.shape)\n",
    "print(dataset.head(5))"
   ]
  },
  {
   "cell_type": "code",
   "execution_count": 19,
   "id": "3169c890-14fc-4357-8b07-aa31002cfcec",
   "metadata": {},
   "outputs": [
    {
     "name": "stdout",
     "output_type": "stream",
     "text": [
      "(201, 3)\n"
     ]
    },
    {
     "data": {
      "text/plain": [
       "array([[ 6.83, 15.  ,  1.  ],\n",
       "       [ 6.56, 16.  ,  0.  ],\n",
       "       [  nan, 17.  ,  1.  ],\n",
       "       [ 5.67, 18.  ,  0.  ],\n",
       "       [ 8.67, 19.  ,  1.  ],\n",
       "       [ 7.55, 20.  ,  0.  ],\n",
       "       [ 6.67, 15.  ,  0.  ],\n",
       "       [ 8.99, 16.  ,  0.  ],\n",
       "       [ 5.19, 17.  ,  1.  ],\n",
       "       [ 6.75, 18.  ,  0.  ],\n",
       "       [ 6.59, 19.  ,  0.  ],\n",
       "       [ 8.56, 20.  ,  1.  ],\n",
       "       [ 7.75, 15.  ,  0.  ],\n",
       "       [ 7.9 , 16.  ,  1.  ],\n",
       "       [ 8.19, 17.  ,  0.  ],\n",
       "       [ 6.55, 18.  ,  1.  ],\n",
       "       [ 6.36, 19.  ,  0.  ],\n",
       "       [ 8.44, 20.  ,  1.  ],\n",
       "       [ 8.41, 15.  ,  0.  ],\n",
       "       [ 7.67, 16.  ,  1.  ],\n",
       "       [ 7.42, 17.  ,  1.  ],\n",
       "       [ 8.16, 18.  ,  1.  ],\n",
       "       [ 5.05, 19.  ,  1.  ],\n",
       "       [ 5.85, 20.  ,  1.  ],\n",
       "       [ 5.45, 15.  ,  0.  ],\n",
       "       [ 7.96, 16.  ,  0.  ],\n",
       "       [ 6.51, 17.  ,  0.  ],\n",
       "       [ 6.73, 18.  ,  0.  ],\n",
       "       [ 5.94, 19.  ,  1.  ],\n",
       "       [ 7.48, 20.  ,  0.  ],\n",
       "       [ 8.13, 15.  ,  1.  ],\n",
       "       [  nan, 16.  ,  1.  ],\n",
       "       [ 5.4 , 17.  ,  1.  ],\n",
       "       [ 8.78, 18.  ,  0.  ],\n",
       "       [ 8.72, 19.  ,  1.  ],\n",
       "       [ 7.1 , 20.  ,  0.  ],\n",
       "       [ 7.86, 15.  ,  1.  ],\n",
       "       [ 7.19, 16.  ,  0.  ],\n",
       "       [ 5.62, 17.  ,  1.  ],\n",
       "       [ 7.88, 18.  ,  0.  ],\n",
       "       [ 5.28, 19.  ,  1.  ],\n",
       "       [ 8.92, 20.  ,  1.  ],\n",
       "       [ 5.46, 15.  ,  0.  ],\n",
       "       [ 8.3 , 16.  ,  1.  ],\n",
       "       [ 8.09, 17.  ,  0.  ],\n",
       "       [ 6.18, 18.  ,  1.  ],\n",
       "       [ 7.01, 19.  ,  1.  ],\n",
       "       [ 5.01, 20.  ,  0.  ],\n",
       "       [ 5.54, 15.  ,  1.  ],\n",
       "       [ 5.09, 16.  ,  1.  ],\n",
       "       [ 5.09, 17.  ,  0.  ],\n",
       "       [ 7.31, 18.  ,  1.  ],\n",
       "       [ 8.71, 19.  ,  0.  ],\n",
       "       [ 5.52, 20.  ,  1.  ],\n",
       "       [ 8.76, 15.  ,  0.  ],\n",
       "       [ 8.69, 16.  ,  1.  ],\n",
       "       [ 5.75, 17.  ,  1.  ],\n",
       "       [ 8.93, 18.  ,  1.  ],\n",
       "       [ 5.39, 19.  ,  1.  ],\n",
       "       [ 5.65, 20.  ,  0.  ],\n",
       "       [ 5.49, 15.  ,  1.  ],\n",
       "       [ 7.26, 16.  ,  1.  ],\n",
       "       [ 6.35, 17.  ,  0.  ],\n",
       "       [ 7.72, 18.  ,  1.  ],\n",
       "       [ 8.88, 19.  ,  0.  ],\n",
       "       [ 5.45, 20.  ,  1.  ],\n",
       "       [ 7.86, 15.  ,  1.  ],\n",
       "       [ 8.26, 16.  ,  0.  ],\n",
       "       [ 5.07, 17.  ,  1.  ],\n",
       "       [ 8.25, 18.  ,  0.  ],\n",
       "       [ 5.37, 19.  ,  1.  ],\n",
       "       [ 5.11, 20.  ,  1.  ],\n",
       "       [ 6.35, 15.  ,  0.  ],\n",
       "       [ 7.41, 16.  ,  1.  ],\n",
       "       [ 7.31, 17.  ,  0.  ],\n",
       "       [ 6.04, 18.  ,  1.  ],\n",
       "       [ 5.11, 19.  ,  1.  ],\n",
       "       [ 6.56, 20.  ,  0.  ],\n",
       "       [ 5.09, 15.  ,  1.  ],\n",
       "       [ 5.88, 16.  ,  0.  ],\n",
       "       [ 8.34, 17.  ,  1.  ],\n",
       "       [ 7.94, 18.  ,  0.  ],\n",
       "       [ 6.66, 19.  ,  1.  ],\n",
       "       [ 6.01, 20.  ,  1.  ],\n",
       "       [ 6.88, 15.  ,  0.  ],\n",
       "       [ 5.63, 16.  ,  1.  ],\n",
       "       [ 5.88, 17.  ,  0.  ],\n",
       "       [ 8.05, 18.  ,  1.  ],\n",
       "       [ 5.33, 19.  ,  0.  ],\n",
       "       [ 8.79, 20.  ,  0.  ],\n",
       "       [ 7.52, 15.  ,  1.  ],\n",
       "       [ 8.2 , 16.  ,  0.  ],\n",
       "       [ 5.44, 17.  ,  1.  ],\n",
       "       [ 7.9 , 18.  ,  0.  ],\n",
       "       [ 7.69, 19.  ,  1.  ],\n",
       "       [ 6.09, 20.  ,  0.  ],\n",
       "       [  nan, 15.  ,  1.  ],\n",
       "       [ 5.2 , 16.  ,  1.  ],\n",
       "       [ 8.88, 17.  ,  0.  ],\n",
       "       [ 8.07, 18.  ,  1.  ],\n",
       "       [ 6.24, 19.  ,  1.  ],\n",
       "       [ 7.95, 20.  ,  0.  ],\n",
       "       [ 8.26, 15.  ,  0.  ],\n",
       "       [ 7.31, 16.  ,  1.  ],\n",
       "       [ 7.23, 17.  ,  1.  ],\n",
       "       [ 6.46, 18.  ,  1.  ],\n",
       "       [ 5.34, 19.  ,  1.  ],\n",
       "       [ 5.72, 20.  ,  1.  ],\n",
       "       [ 5.84, 15.  ,  0.  ],\n",
       "       [ 5.02, 16.  ,  1.  ],\n",
       "       [ 7.98, 17.  ,  0.  ],\n",
       "       [ 6.37, 18.  ,  1.  ],\n",
       "       [ 6.92, 19.  ,  0.  ],\n",
       "       [ 7.95, 20.  ,  1.  ],\n",
       "       [ 7.12, 15.  ,  0.  ],\n",
       "       [ 5.79, 16.  ,  1.  ],\n",
       "       [ 5.4 , 17.  ,  0.  ],\n",
       "       [ 8.83, 18.  ,  1.  ],\n",
       "       [ 5.69, 19.  ,  0.  ],\n",
       "       [ 6.6 , 20.  ,  1.  ],\n",
       "       [ 6.52, 15.  ,  0.  ],\n",
       "       [ 8.31, 16.  ,  0.  ],\n",
       "       [  nan, 17.  ,  1.  ],\n",
       "       [ 7.62, 18.  ,  0.  ],\n",
       "       [ 8.69, 19.  ,  1.  ],\n",
       "       [ 8.75, 20.  ,  0.  ],\n",
       "       [ 6.46, 15.  ,  1.  ],\n",
       "       [ 7.14, 16.  ,  1.  ],\n",
       "       [ 6.38, 17.  ,  0.  ],\n",
       "       [ 6.33, 18.  ,  1.  ],\n",
       "       [ 5.64, 19.  ,  0.  ],\n",
       "       [ 5.26, 20.  ,  1.  ],\n",
       "       [ 6.83, 15.  ,  1.  ],\n",
       "       [ 5.76, 16.  ,  0.  ],\n",
       "       [ 6.51, 17.  ,  1.  ],\n",
       "       [ 8.33, 18.  ,  0.  ],\n",
       "       [ 8.16, 19.  ,  1.  ],\n",
       "       [ 5.14, 20.  ,  0.  ],\n",
       "       [ 8.71, 15.  ,  0.  ],\n",
       "       [ 8.6 , 16.  ,  1.  ],\n",
       "       [ 8.6 , 17.  ,  0.  ],\n",
       "       [ 7.43, 18.  ,  1.  ],\n",
       "       [ 7.81, 19.  ,  1.  ],\n",
       "       [ 6.51, 20.  ,  0.  ],\n",
       "       [ 8.11, 15.  ,  1.  ],\n",
       "       [ 8.95, 16.  ,  0.  ],\n",
       "       [ 7.99, 17.  ,  1.  ],\n",
       "       [ 5.92, 18.  ,  0.  ],\n",
       "       [ 8.3 , 19.  ,  1.  ],\n",
       "       [ 8.97, 20.  ,  0.  ],\n",
       "       [ 5.39, 15.  ,  0.  ],\n",
       "       [ 6.77, 16.  ,  0.  ],\n",
       "       [ 8.08, 17.  ,  1.  ],\n",
       "       [ 5.24, 18.  ,  0.  ],\n",
       "       [ 6.93, 19.  ,  1.  ],\n",
       "       [ 5.14, 20.  ,  0.  ],\n",
       "       [ 8.39, 15.  ,  1.  ],\n",
       "       [ 6.18, 16.  ,  0.  ],\n",
       "       [ 7.53, 17.  ,  1.  ],\n",
       "       [ 7.86, 18.  ,  0.  ],\n",
       "       [ 7.7 , 19.  ,  1.  ],\n",
       "       [ 7.3 , 20.  ,  0.  ],\n",
       "       [ 7.79, 15.  ,  1.  ],\n",
       "       [ 6.75, 16.  ,  0.  ],\n",
       "       [ 7.87, 17.  ,  1.  ],\n",
       "       [ 5.38, 18.  ,  0.  ],\n",
       "       [ 7.8 , 19.  ,  1.  ],\n",
       "       [ 5.07, 20.  ,  0.  ],\n",
       "       [ 7.95, 15.  ,  1.  ],\n",
       "       [ 8.35, 16.  ,  0.  ],\n",
       "       [ 5.19, 17.  ,  0.  ],\n",
       "       [ 7.19, 18.  ,  0.  ],\n",
       "       [ 7.35, 19.  ,  1.  ],\n",
       "       [ 5.22, 20.  ,  1.  ],\n",
       "       [ 5.39, 15.  ,  1.  ],\n",
       "       [ 5.39, 16.  ,  1.  ],\n",
       "       [ 8.93, 17.  ,  1.  ],\n",
       "       [ 5.79, 18.  ,  0.  ],\n",
       "       [ 8.42, 19.  ,  1.  ],\n",
       "       [ 7.26, 20.  ,  0.  ],\n",
       "       [ 6.97, 15.  ,  1.  ],\n",
       "       [ 5.55, 16.  ,  1.  ],\n",
       "       [ 8.66, 17.  ,  0.  ],\n",
       "       [ 8.61, 18.  ,  1.  ],\n",
       "       [ 5.22, 19.  ,  1.  ],\n",
       "       [ 8.05, 20.  ,  0.  ],\n",
       "       [ 8.87, 15.  ,  1.  ],\n",
       "       [ 5.54, 16.  ,  0.  ],\n",
       "       [  nan, 17.  ,  0.  ],\n",
       "       [ 7.26, 18.  ,  1.  ],\n",
       "       [ 5.79, 19.  ,  0.  ],\n",
       "       [ 5.22, 20.  ,  0.  ],\n",
       "       [ 8.71, 15.  ,  1.  ],\n",
       "       [ 7.55, 16.  ,  1.  ],\n",
       "       [ 6.35, 17.  ,  1.  ],\n",
       "       [ 7.53, 18.  ,  0.  ],\n",
       "       [ 8.56, 19.  ,  1.  ],\n",
       "       [ 8.94, 20.  ,  1.  ],\n",
       "       [ 6.6 , 15.  ,  1.  ],\n",
       "       [ 8.35, 16.  ,  1.  ],\n",
       "       [ 4.15, 15.  ,  0.  ]])"
      ]
     },
     "execution_count": 19,
     "metadata": {},
     "output_type": "execute_result"
    }
   ],
   "source": [
    "X = dataset.iloc[:, :-1].values\n",
    "print(X.shape)\n",
    "X"
   ]
  },
  {
   "cell_type": "code",
   "execution_count": 20,
   "id": "394e808d-129a-42ca-9601-501732d059ec",
   "metadata": {},
   "outputs": [
    {
     "data": {
      "text/plain": [
       "Index(['hours'], dtype='object')"
      ]
     },
     "execution_count": 20,
     "metadata": {},
     "output_type": "execute_result"
    }
   ],
   "source": [
    "dataset.columns[dataset.isna().any()]"
   ]
  },
  {
   "cell_type": "code",
   "execution_count": 21,
   "id": "5df508ee-3884-42d4-a1ef-0a94631106f1",
   "metadata": {},
   "outputs": [],
   "source": [
    "dataset.hours = dataset.hours.fillna(dataset.hours.mean())"
   ]
  },
  {
   "cell_type": "code",
   "execution_count": 23,
   "id": "2eacb3c5-67e7-48e3-8728-6c586457781b",
   "metadata": {},
   "outputs": [
    {
     "name": "stdout",
     "output_type": "stream",
     "text": [
      "(201, 3)\n"
     ]
    },
    {
     "data": {
      "text/plain": [
       "array([[ 6.83      , 15.        ,  1.        ],\n",
       "       [ 6.56      , 16.        ,  0.        ],\n",
       "       [ 6.98142857, 17.        ,  1.        ],\n",
       "       [ 5.67      , 18.        ,  0.        ],\n",
       "       [ 8.67      , 19.        ,  1.        ],\n",
       "       [ 7.55      , 20.        ,  0.        ],\n",
       "       [ 6.67      , 15.        ,  0.        ],\n",
       "       [ 8.99      , 16.        ,  0.        ],\n",
       "       [ 5.19      , 17.        ,  1.        ],\n",
       "       [ 6.75      , 18.        ,  0.        ],\n",
       "       [ 6.59      , 19.        ,  0.        ],\n",
       "       [ 8.56      , 20.        ,  1.        ],\n",
       "       [ 7.75      , 15.        ,  0.        ],\n",
       "       [ 7.9       , 16.        ,  1.        ],\n",
       "       [ 8.19      , 17.        ,  0.        ],\n",
       "       [ 6.55      , 18.        ,  1.        ],\n",
       "       [ 6.36      , 19.        ,  0.        ],\n",
       "       [ 8.44      , 20.        ,  1.        ],\n",
       "       [ 8.41      , 15.        ,  0.        ],\n",
       "       [ 7.67      , 16.        ,  1.        ],\n",
       "       [ 7.42      , 17.        ,  1.        ],\n",
       "       [ 8.16      , 18.        ,  1.        ],\n",
       "       [ 5.05      , 19.        ,  1.        ],\n",
       "       [ 5.85      , 20.        ,  1.        ],\n",
       "       [ 5.45      , 15.        ,  0.        ],\n",
       "       [ 7.96      , 16.        ,  0.        ],\n",
       "       [ 6.51      , 17.        ,  0.        ],\n",
       "       [ 6.73      , 18.        ,  0.        ],\n",
       "       [ 5.94      , 19.        ,  1.        ],\n",
       "       [ 7.48      , 20.        ,  0.        ],\n",
       "       [ 8.13      , 15.        ,  1.        ],\n",
       "       [ 6.98142857, 16.        ,  1.        ],\n",
       "       [ 5.4       , 17.        ,  1.        ],\n",
       "       [ 8.78      , 18.        ,  0.        ],\n",
       "       [ 8.72      , 19.        ,  1.        ],\n",
       "       [ 7.1       , 20.        ,  0.        ],\n",
       "       [ 7.86      , 15.        ,  1.        ],\n",
       "       [ 7.19      , 16.        ,  0.        ],\n",
       "       [ 5.62      , 17.        ,  1.        ],\n",
       "       [ 7.88      , 18.        ,  0.        ],\n",
       "       [ 5.28      , 19.        ,  1.        ],\n",
       "       [ 8.92      , 20.        ,  1.        ],\n",
       "       [ 5.46      , 15.        ,  0.        ],\n",
       "       [ 8.3       , 16.        ,  1.        ],\n",
       "       [ 8.09      , 17.        ,  0.        ],\n",
       "       [ 6.18      , 18.        ,  1.        ],\n",
       "       [ 7.01      , 19.        ,  1.        ],\n",
       "       [ 5.01      , 20.        ,  0.        ],\n",
       "       [ 5.54      , 15.        ,  1.        ],\n",
       "       [ 5.09      , 16.        ,  1.        ],\n",
       "       [ 5.09      , 17.        ,  0.        ],\n",
       "       [ 7.31      , 18.        ,  1.        ],\n",
       "       [ 8.71      , 19.        ,  0.        ],\n",
       "       [ 5.52      , 20.        ,  1.        ],\n",
       "       [ 8.76      , 15.        ,  0.        ],\n",
       "       [ 8.69      , 16.        ,  1.        ],\n",
       "       [ 5.75      , 17.        ,  1.        ],\n",
       "       [ 8.93      , 18.        ,  1.        ],\n",
       "       [ 5.39      , 19.        ,  1.        ],\n",
       "       [ 5.65      , 20.        ,  0.        ],\n",
       "       [ 5.49      , 15.        ,  1.        ],\n",
       "       [ 7.26      , 16.        ,  1.        ],\n",
       "       [ 6.35      , 17.        ,  0.        ],\n",
       "       [ 7.72      , 18.        ,  1.        ],\n",
       "       [ 8.88      , 19.        ,  0.        ],\n",
       "       [ 5.45      , 20.        ,  1.        ],\n",
       "       [ 7.86      , 15.        ,  1.        ],\n",
       "       [ 8.26      , 16.        ,  0.        ],\n",
       "       [ 5.07      , 17.        ,  1.        ],\n",
       "       [ 8.25      , 18.        ,  0.        ],\n",
       "       [ 5.37      , 19.        ,  1.        ],\n",
       "       [ 5.11      , 20.        ,  1.        ],\n",
       "       [ 6.35      , 15.        ,  0.        ],\n",
       "       [ 7.41      , 16.        ,  1.        ],\n",
       "       [ 7.31      , 17.        ,  0.        ],\n",
       "       [ 6.04      , 18.        ,  1.        ],\n",
       "       [ 5.11      , 19.        ,  1.        ],\n",
       "       [ 6.56      , 20.        ,  0.        ],\n",
       "       [ 5.09      , 15.        ,  1.        ],\n",
       "       [ 5.88      , 16.        ,  0.        ],\n",
       "       [ 8.34      , 17.        ,  1.        ],\n",
       "       [ 7.94      , 18.        ,  0.        ],\n",
       "       [ 6.66      , 19.        ,  1.        ],\n",
       "       [ 6.01      , 20.        ,  1.        ],\n",
       "       [ 6.88      , 15.        ,  0.        ],\n",
       "       [ 5.63      , 16.        ,  1.        ],\n",
       "       [ 5.88      , 17.        ,  0.        ],\n",
       "       [ 8.05      , 18.        ,  1.        ],\n",
       "       [ 5.33      , 19.        ,  0.        ],\n",
       "       [ 8.79      , 20.        ,  0.        ],\n",
       "       [ 7.52      , 15.        ,  1.        ],\n",
       "       [ 8.2       , 16.        ,  0.        ],\n",
       "       [ 5.44      , 17.        ,  1.        ],\n",
       "       [ 7.9       , 18.        ,  0.        ],\n",
       "       [ 7.69      , 19.        ,  1.        ],\n",
       "       [ 6.09      , 20.        ,  0.        ],\n",
       "       [ 6.98142857, 15.        ,  1.        ],\n",
       "       [ 5.2       , 16.        ,  1.        ],\n",
       "       [ 8.88      , 17.        ,  0.        ],\n",
       "       [ 8.07      , 18.        ,  1.        ],\n",
       "       [ 6.24      , 19.        ,  1.        ],\n",
       "       [ 7.95      , 20.        ,  0.        ],\n",
       "       [ 8.26      , 15.        ,  0.        ],\n",
       "       [ 7.31      , 16.        ,  1.        ],\n",
       "       [ 7.23      , 17.        ,  1.        ],\n",
       "       [ 6.46      , 18.        ,  1.        ],\n",
       "       [ 5.34      , 19.        ,  1.        ],\n",
       "       [ 5.72      , 20.        ,  1.        ],\n",
       "       [ 5.84      , 15.        ,  0.        ],\n",
       "       [ 5.02      , 16.        ,  1.        ],\n",
       "       [ 7.98      , 17.        ,  0.        ],\n",
       "       [ 6.37      , 18.        ,  1.        ],\n",
       "       [ 6.92      , 19.        ,  0.        ],\n",
       "       [ 7.95      , 20.        ,  1.        ],\n",
       "       [ 7.12      , 15.        ,  0.        ],\n",
       "       [ 5.79      , 16.        ,  1.        ],\n",
       "       [ 5.4       , 17.        ,  0.        ],\n",
       "       [ 8.83      , 18.        ,  1.        ],\n",
       "       [ 5.69      , 19.        ,  0.        ],\n",
       "       [ 6.6       , 20.        ,  1.        ],\n",
       "       [ 6.52      , 15.        ,  0.        ],\n",
       "       [ 8.31      , 16.        ,  0.        ],\n",
       "       [ 6.98142857, 17.        ,  1.        ],\n",
       "       [ 7.62      , 18.        ,  0.        ],\n",
       "       [ 8.69      , 19.        ,  1.        ],\n",
       "       [ 8.75      , 20.        ,  0.        ],\n",
       "       [ 6.46      , 15.        ,  1.        ],\n",
       "       [ 7.14      , 16.        ,  1.        ],\n",
       "       [ 6.38      , 17.        ,  0.        ],\n",
       "       [ 6.33      , 18.        ,  1.        ],\n",
       "       [ 5.64      , 19.        ,  0.        ],\n",
       "       [ 5.26      , 20.        ,  1.        ],\n",
       "       [ 6.83      , 15.        ,  1.        ],\n",
       "       [ 5.76      , 16.        ,  0.        ],\n",
       "       [ 6.51      , 17.        ,  1.        ],\n",
       "       [ 8.33      , 18.        ,  0.        ],\n",
       "       [ 8.16      , 19.        ,  1.        ],\n",
       "       [ 5.14      , 20.        ,  0.        ],\n",
       "       [ 8.71      , 15.        ,  0.        ],\n",
       "       [ 8.6       , 16.        ,  1.        ],\n",
       "       [ 8.6       , 17.        ,  0.        ],\n",
       "       [ 7.43      , 18.        ,  1.        ],\n",
       "       [ 7.81      , 19.        ,  1.        ],\n",
       "       [ 6.51      , 20.        ,  0.        ],\n",
       "       [ 8.11      , 15.        ,  1.        ],\n",
       "       [ 8.95      , 16.        ,  0.        ],\n",
       "       [ 7.99      , 17.        ,  1.        ],\n",
       "       [ 5.92      , 18.        ,  0.        ],\n",
       "       [ 8.3       , 19.        ,  1.        ],\n",
       "       [ 8.97      , 20.        ,  0.        ],\n",
       "       [ 5.39      , 15.        ,  0.        ],\n",
       "       [ 6.77      , 16.        ,  0.        ],\n",
       "       [ 8.08      , 17.        ,  1.        ],\n",
       "       [ 5.24      , 18.        ,  0.        ],\n",
       "       [ 6.93      , 19.        ,  1.        ],\n",
       "       [ 5.14      , 20.        ,  0.        ],\n",
       "       [ 8.39      , 15.        ,  1.        ],\n",
       "       [ 6.18      , 16.        ,  0.        ],\n",
       "       [ 7.53      , 17.        ,  1.        ],\n",
       "       [ 7.86      , 18.        ,  0.        ],\n",
       "       [ 7.7       , 19.        ,  1.        ],\n",
       "       [ 7.3       , 20.        ,  0.        ],\n",
       "       [ 7.79      , 15.        ,  1.        ],\n",
       "       [ 6.75      , 16.        ,  0.        ],\n",
       "       [ 7.87      , 17.        ,  1.        ],\n",
       "       [ 5.38      , 18.        ,  0.        ],\n",
       "       [ 7.8       , 19.        ,  1.        ],\n",
       "       [ 5.07      , 20.        ,  0.        ],\n",
       "       [ 7.95      , 15.        ,  1.        ],\n",
       "       [ 8.35      , 16.        ,  0.        ],\n",
       "       [ 5.19      , 17.        ,  0.        ],\n",
       "       [ 7.19      , 18.        ,  0.        ],\n",
       "       [ 7.35      , 19.        ,  1.        ],\n",
       "       [ 5.22      , 20.        ,  1.        ],\n",
       "       [ 5.39      , 15.        ,  1.        ],\n",
       "       [ 5.39      , 16.        ,  1.        ],\n",
       "       [ 8.93      , 17.        ,  1.        ],\n",
       "       [ 5.79      , 18.        ,  0.        ],\n",
       "       [ 8.42      , 19.        ,  1.        ],\n",
       "       [ 7.26      , 20.        ,  0.        ],\n",
       "       [ 6.97      , 15.        ,  1.        ],\n",
       "       [ 5.55      , 16.        ,  1.        ],\n",
       "       [ 8.66      , 17.        ,  0.        ],\n",
       "       [ 8.61      , 18.        ,  1.        ],\n",
       "       [ 5.22      , 19.        ,  1.        ],\n",
       "       [ 8.05      , 20.        ,  0.        ],\n",
       "       [ 8.87      , 15.        ,  1.        ],\n",
       "       [ 5.54      , 16.        ,  0.        ],\n",
       "       [ 6.98142857, 17.        ,  0.        ],\n",
       "       [ 7.26      , 18.        ,  1.        ],\n",
       "       [ 5.79      , 19.        ,  0.        ],\n",
       "       [ 5.22      , 20.        ,  0.        ],\n",
       "       [ 8.71      , 15.        ,  1.        ],\n",
       "       [ 7.55      , 16.        ,  1.        ],\n",
       "       [ 6.35      , 17.        ,  1.        ],\n",
       "       [ 7.53      , 18.        ,  0.        ],\n",
       "       [ 8.56      , 19.        ,  1.        ],\n",
       "       [ 8.94      , 20.        ,  1.        ],\n",
       "       [ 6.6       , 15.        ,  1.        ],\n",
       "       [ 8.35      , 16.        ,  1.        ],\n",
       "       [ 4.15      , 15.        ,  0.        ]])"
      ]
     },
     "execution_count": 23,
     "metadata": {},
     "output_type": "execute_result"
    }
   ],
   "source": [
    "X = dataset.iloc[:, :-1].values\n",
    "print(X.shape)\n",
    "X"
   ]
  },
  {
   "cell_type": "code",
   "execution_count": 24,
   "id": "59fdc015-fa84-4d83-9527-2991217ef0ce",
   "metadata": {},
   "outputs": [
    {
     "data": {
      "text/plain": [
       "0      6.830000\n",
       "1      6.560000\n",
       "2      6.981429\n",
       "3      5.670000\n",
       "4      8.670000\n",
       "         ...   \n",
       "196    8.560000\n",
       "197    8.940000\n",
       "198    6.600000\n",
       "199    8.350000\n",
       "200    4.150000\n",
       "Name: hours, Length: 201, dtype: float64"
      ]
     },
     "execution_count": 24,
     "metadata": {},
     "output_type": "execute_result"
    }
   ],
   "source": [
    "dataset.hours"
   ]
  },
  {
   "cell_type": "code",
   "execution_count": 25,
   "id": "5df429b7-b298-4059-8c8b-bdd8605c3d0f",
   "metadata": {},
   "outputs": [
    {
     "data": {
      "text/plain": [
       "array([78.5 , 76.74, 78.68, 71.82, 84.19, 81.18, 76.99, 85.46, 70.66,\n",
       "       77.82, 75.37, 83.88, 79.5 , 80.76, 83.08, 76.03, 76.04, 85.11,\n",
       "       82.5 , 80.58, 82.18, 83.36, 70.67, 75.02, 70.96, 83.33, 74.75,\n",
       "       75.65, 74.15, 80.17, 82.27, 76.14, 71.1 , 84.35, 83.08, 76.76,\n",
       "       81.24, 78.21, 73.08, 83.23, 70.27, 86.41, 71.1 , 82.84, 82.38,\n",
       "       72.96, 77.46, 70.11, 72.38, 71.41, 72.22, 77.77, 84.44, 71.45,\n",
       "       82.21, 85.48, 75.03, 86.65, 70.9 , 71.7 , 73.61, 79.41, 76.19,\n",
       "       80.43, 85.78, 70.06, 81.25, 81.7 , 69.27, 82.79, 71.8 , 71.79,\n",
       "       74.97, 78.61, 77.59, 72.33, 72.08, 77.33, 70.05, 73.34, 84.  ,\n",
       "       82.93, 76.63, 75.36, 77.29, 72.87, 73.4 , 81.74, 71.85, 84.6 ,\n",
       "       79.56, 82.1 , 72.08, 79.1 , 81.01, 76.48, 75.39, 68.57, 83.64,\n",
       "       82.3 , 75.18, 82.03, 82.99, 79.26, 77.55, 77.07, 72.1 , 73.25,\n",
       "       74.25, 70.58, 81.08, 75.04, 76.38, 80.86, 78.42, 74.44, 70.34,\n",
       "       85.04, 73.61, 75.55, 76.2 , 82.69, 76.83, 79.53, 83.57, 85.95,\n",
       "       76.02, 77.65, 77.01, 74.49, 73.19, 71.86, 75.8 , 72.46, 78.39,\n",
       "       83.48, 83.15, 71.22, 85.98, 83.91, 84.58, 80.31, 82.55, 75.52,\n",
       "       83.82, 85.15, 82.75, 74.34, 82.02, 86.12, 71.87, 76.7 , 81.7 ,\n",
       "       70.78, 78.45, 70.2 , 83.37, 75.52, 81.57, 80.72, 80.81, 79.49,\n",
       "       79.17, 77.07, 82.04, 71.94, 81.6 , 70.79, 82.68, 83.08, 71.18,\n",
       "       77.63, 77.78, 70.4 , 73.02, 71.11, 85.96, 73.64, 84.24, 78.17,\n",
       "       77.19, 71.83, 86.99, 83.87, 71.5 , 79.63, 85.1 , 72.01, 77.27,\n",
       "       79.87, 73.14, 70.51, 84.03, 79.64, 74.24, 81.67, 84.68, 86.75,\n",
       "       78.05, 83.5 , 81.45])"
      ]
     },
     "execution_count": 25,
     "metadata": {},
     "output_type": "execute_result"
    }
   ],
   "source": [
    "Y = dataset.iloc[:,-1].values\n",
    "Y"
   ]
  },
  {
   "cell_type": "code",
   "execution_count": 26,
   "id": "dd9efe85-14ab-434c-a977-b8111f9eb4b6",
   "metadata": {},
   "outputs": [
    {
     "data": {
      "text/html": [
       "<style>#sk-container-id-2 {color: black;background-color: white;}#sk-container-id-2 pre{padding: 0;}#sk-container-id-2 div.sk-toggleable {background-color: white;}#sk-container-id-2 label.sk-toggleable__label {cursor: pointer;display: block;width: 100%;margin-bottom: 0;padding: 0.3em;box-sizing: border-box;text-align: center;}#sk-container-id-2 label.sk-toggleable__label-arrow:before {content: \"▸\";float: left;margin-right: 0.25em;color: #696969;}#sk-container-id-2 label.sk-toggleable__label-arrow:hover:before {color: black;}#sk-container-id-2 div.sk-estimator:hover label.sk-toggleable__label-arrow:before {color: black;}#sk-container-id-2 div.sk-toggleable__content {max-height: 0;max-width: 0;overflow: hidden;text-align: left;background-color: #f0f8ff;}#sk-container-id-2 div.sk-toggleable__content pre {margin: 0.2em;color: black;border-radius: 0.25em;background-color: #f0f8ff;}#sk-container-id-2 input.sk-toggleable__control:checked~div.sk-toggleable__content {max-height: 200px;max-width: 100%;overflow: auto;}#sk-container-id-2 input.sk-toggleable__control:checked~label.sk-toggleable__label-arrow:before {content: \"▾\";}#sk-container-id-2 div.sk-estimator input.sk-toggleable__control:checked~label.sk-toggleable__label {background-color: #d4ebff;}#sk-container-id-2 div.sk-label input.sk-toggleable__control:checked~label.sk-toggleable__label {background-color: #d4ebff;}#sk-container-id-2 input.sk-hidden--visually {border: 0;clip: rect(1px 1px 1px 1px);clip: rect(1px, 1px, 1px, 1px);height: 1px;margin: -1px;overflow: hidden;padding: 0;position: absolute;width: 1px;}#sk-container-id-2 div.sk-estimator {font-family: monospace;background-color: #f0f8ff;border: 1px dotted black;border-radius: 0.25em;box-sizing: border-box;margin-bottom: 0.5em;}#sk-container-id-2 div.sk-estimator:hover {background-color: #d4ebff;}#sk-container-id-2 div.sk-parallel-item::after {content: \"\";width: 100%;border-bottom: 1px solid gray;flex-grow: 1;}#sk-container-id-2 div.sk-label:hover label.sk-toggleable__label {background-color: #d4ebff;}#sk-container-id-2 div.sk-serial::before {content: \"\";position: absolute;border-left: 1px solid gray;box-sizing: border-box;top: 0;bottom: 0;left: 50%;z-index: 0;}#sk-container-id-2 div.sk-serial {display: flex;flex-direction: column;align-items: center;background-color: white;padding-right: 0.2em;padding-left: 0.2em;position: relative;}#sk-container-id-2 div.sk-item {position: relative;z-index: 1;}#sk-container-id-2 div.sk-parallel {display: flex;align-items: stretch;justify-content: center;background-color: white;position: relative;}#sk-container-id-2 div.sk-item::before, #sk-container-id-2 div.sk-parallel-item::before {content: \"\";position: absolute;border-left: 1px solid gray;box-sizing: border-box;top: 0;bottom: 0;left: 50%;z-index: -1;}#sk-container-id-2 div.sk-parallel-item {display: flex;flex-direction: column;z-index: 1;position: relative;background-color: white;}#sk-container-id-2 div.sk-parallel-item:first-child::after {align-self: flex-end;width: 50%;}#sk-container-id-2 div.sk-parallel-item:last-child::after {align-self: flex-start;width: 50%;}#sk-container-id-2 div.sk-parallel-item:only-child::after {width: 0;}#sk-container-id-2 div.sk-dashed-wrapped {border: 1px dashed gray;margin: 0 0.4em 0.5em 0.4em;box-sizing: border-box;padding-bottom: 0.4em;background-color: white;}#sk-container-id-2 div.sk-label label {font-family: monospace;font-weight: bold;display: inline-block;line-height: 1.2em;}#sk-container-id-2 div.sk-label-container {text-align: center;}#sk-container-id-2 div.sk-container {/* jupyter's `normalize.less` sets `[hidden] { display: none; }` but bootstrap.min.css set `[hidden] { display: none !important; }` so we also need the `!important` here to be able to override the default hidden behavior on the sphinx rendered scikit-learn.org. See: https://github.com/scikit-learn/scikit-learn/issues/21755 */display: inline-block !important;position: relative;}#sk-container-id-2 div.sk-text-repr-fallback {display: none;}</style><div id=\"sk-container-id-2\" class=\"sk-top-container\"><div class=\"sk-text-repr-fallback\"><pre>LinearRegression()</pre><b>In a Jupyter environment, please rerun this cell to show the HTML representation or trust the notebook. <br />On GitHub, the HTML representation is unable to render, please try loading this page with nbviewer.org.</b></div><div class=\"sk-container\" hidden><div class=\"sk-item\"><div class=\"sk-estimator sk-toggleable\"><input class=\"sk-toggleable__control sk-hidden--visually\" id=\"sk-estimator-id-2\" type=\"checkbox\" checked><label for=\"sk-estimator-id-2\" class=\"sk-toggleable__label sk-toggleable__label-arrow\">LinearRegression</label><div class=\"sk-toggleable__content\"><pre>LinearRegression()</pre></div></div></div></div></div>"
      ],
      "text/plain": [
       "LinearRegression()"
      ]
     },
     "execution_count": 26,
     "metadata": {},
     "output_type": "execute_result"
    }
   ],
   "source": [
    "model=LinearRegression()\n",
    "model.fit(X,Y)"
   ]
  },
  {
   "cell_type": "code",
   "execution_count": 27,
   "id": "a9bc05f9-ff04-4654-8bc9-c478f7e8a7a4",
   "metadata": {},
   "outputs": [
    {
     "name": "stdout",
     "output_type": "stream",
     "text": [
      "[165136.067752]\n"
     ]
    }
   ],
   "source": [
    "a=[[1,75,1]]\n",
    "predicedModelresult = model.predict(a)\n",
    "print(PredictedmodelResult)"
   ]
  },
  {
   "cell_type": "code",
   "execution_count": null,
   "id": "7fd6efe6-c812-4971-96df-ab44ec9466d3",
   "metadata": {},
   "outputs": [],
   "source": []
  }
 ],
 "metadata": {
  "kernelspec": {
   "display_name": "Python 3 (ipykernel)",
   "language": "python",
   "name": "python3"
  },
  "language_info": {
   "codemirror_mode": {
    "name": "ipython",
    "version": 3
   },
   "file_extension": ".py",
   "mimetype": "text/x-python",
   "name": "python",
   "nbconvert_exporter": "python",
   "pygments_lexer": "ipython3",
   "version": "3.11.7"
  }
 },
 "nbformat": 4,
 "nbformat_minor": 5
}
